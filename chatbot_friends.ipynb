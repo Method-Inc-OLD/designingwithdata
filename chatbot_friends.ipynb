{
 "cells": [
  {
   "cell_type": "markdown",
   "metadata": {},
   "source": [
    "Accompanying notebook for the talk *Designing **with** data* by <a href=\"https://www.linkedin.com/in/joshuanewnham\">Joshua Newnham</a> - 2017"
   ]
  },
  {
   "cell_type": "markdown",
   "metadata": {},
   "source": [
    "# Data pre-processing "
   ]
  },
  {
   "cell_type": "markdown",
   "metadata": {},
   "source": [
    "In this notebook we prepare data for training our model; the process follows the following steps:  \n",
    "- Ingestion \n",
    "- Cleaning \n",
    "- Normalising \n",
    "- Building a vocabulary\n",
    "- Tokenising \n",
    "- Vectorization \n",
    "- Padding \n",
    "\n",
    "We will be using transcripts from the popular TV soap show Friends to train our chatbot, specifically using the dialogue from Joey, one of the main characters of the show.  \n",
    "We are using the data made available from <a href=\"https://sites.google.com/site/friendstvcorpus/\">friendstvcorpus</a>; curated by David Ayliffe for his Masters thesis 'A study into the use of linguistic structures used inter-gender and intra-gender in the TV show 'Friends'. "
   ]
  },
  {
   "cell_type": "markdown",
   "metadata": {},
   "source": [
    "Import the depedencies "
   ]
  },
  {
   "cell_type": "code",
   "execution_count": 2,
   "metadata": {},
   "outputs": [],
   "source": [
    "import csv \n",
    "import pickle \n",
    "import collections \n",
    "import itertools\n",
    "import copy\n",
    "import operator\n",
    "import re \n",
    "import random \n",
    "\n",
    "import numpy as np\n",
    "\n",
    "import matplotlib.pyplot as plt\n",
    "\n",
    "from keras.preprocessing import sequence"
   ]
  },
  {
   "cell_type": "code",
   "execution_count": 3,
   "metadata": {
    "collapsed": true
   },
   "outputs": [],
   "source": [
    "%matplotlib inline\n",
    "plt.style.use('ggplot')"
   ]
  },
  {
   "cell_type": "markdown",
   "metadata": {},
   "source": [
    "## Data Ingestion"
   ]
  },
  {
   "cell_type": "markdown",
   "metadata": {},
   "source": [
    "In this phase we will import the data from the files available <a href=\"https://sites.google.com/site/friendstvcorpus/files/Data.zip?attredirects=0&d=1\">here</a>. The file is tab delimitted, with the following columns: \n",
    "- 0: id\n",
    "- 1: scene_id\n",
    "- 2: person\n",
    "- 3: gender\n",
    "- 4: original_line\n",
    "- 5: line\n",
    "- 6: metadata\n",
    "- 7: filename"
   ]
  },
  {
   "cell_type": "code",
   "execution_count": 4,
   "metadata": {
    "collapsed": true
   },
   "outputs": [],
   "source": [
    "FILE_TRAINING_DATA = 'data/friends-final.txt'"
   ]
  },
  {
   "cell_type": "code",
   "execution_count": 5,
   "metadata": {
    "collapsed": true
   },
   "outputs": [],
   "source": [
    "def read_file():\n",
    "    \n",
    "    conversation = [] \n",
    "    \n",
    "    with open(constants.FILE_TRAINING_DATA) as f:\n",
    "        reader = csv.reader(f, delimiter='\\t')\n",
    "        _ = next(reader)\n",
    "        for row in reader:\n",
    "            try:\n",
    "                scene_id = int(row[1].strip())\n",
    "            except:\n",
    "                continue \n",
    "                \n",
    "            person = row[2].strip() \n",
    "            line = row[5].strip() \n",
    "            \n",
    "            conversation.append({\n",
    "                'scene_id': scene_id, \n",
    "                'actor': person, \n",
    "                'text': line})\n",
    "            \n",
    "    return conversation"
   ]
  },
  {
   "cell_type": "code",
   "execution_count": null,
   "metadata": {
    "collapsed": true
   },
   "outputs": [],
   "source": [
    "conversation = read_file()\n",
    "\n",
    "print(\"Separate dialouge instances {}\\n\".format(len(conversation)))\n",
    "\n",
    "for i in range(3):\n",
    "    idx = random.randint(0, len(conversation)-10)\n",
    "    print(\"{}: {}: {}\".format(idx-1, conversation[idx-1][\"actor\"], conversation[idx-1][\"text\"]))\n",
    "    print(\"{}: {}: {}\".format(idx, conversation[idx][\"actor\"], conversation[idx][\"text\"]))\n",
    "    print(\"{}: {}: {}\".format(idx+1, conversation[idx+1][\"actor\"], conversation[idx+1][\"text\"]))\n",
    "    print(\"\")"
   ]
  }
 ],
 "metadata": {
  "kernelspec": {
   "display_name": "Python 3",
   "language": "python",
   "name": "python3"
  },
  "language_info": {
   "codemirror_mode": {
    "name": "ipython",
    "version": 3
   },
   "file_extension": ".py",
   "mimetype": "text/x-python",
   "name": "python",
   "nbconvert_exporter": "python",
   "pygments_lexer": "ipython3",
   "version": "3.5.4"
  }
 },
 "nbformat": 4,
 "nbformat_minor": 2
}
