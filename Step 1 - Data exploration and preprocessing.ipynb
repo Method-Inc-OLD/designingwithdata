{
 "cells": [
  {
   "cell_type": "markdown",
   "metadata": {},
   "source": [
    "Accompanying notebook for the talk *Designing **with** data* by <a href=\"https://www.linkedin.com/in/joshuanewnham\">Joshua Newnham</a> - 2017"
   ]
  },
  {
   "cell_type": "markdown",
   "metadata": {},
   "source": [
    "# Data pre-processing "
   ]
  },
  {
   "cell_type": "markdown",
   "metadata": {},
   "source": [
    "In this notebook we prepare data for training our model; the process follows the following steps:  \n",
    "- Ingestion \n",
    "- Cleaning \n",
    "- Normalising \n",
    "- Building a vocabulary\n",
    "- Tokenising \n",
    "- Vectorization \n",
    "- Padding \n",
    "\n",
    "We will be using transcripts from the popular TV soap show Friends to train our chatbot, specifically using the dialogue from Joey, one of the main characters of the show.  \n",
    "We are using the data made available from <a href=\"https://sites.google.com/site/friendstvcorpus/\">friendstvcorpus</a>; curated by David Ayliffe for his Masters thesis 'A study into the use of linguistic structures used inter-gender and intra-gender in the TV show 'Friends'. "
   ]
  },
  {
   "cell_type": "code",
   "execution_count": 1,
   "metadata": {},
   "outputs": [
    {
     "name": "stderr",
     "output_type": "stream",
     "text": [
      "Using TensorFlow backend.\n"
     ]
    }
   ],
   "source": [
    "import constants\n",
    "\n",
    "import csv \n",
    "import pickle \n",
    "import collections \n",
    "import itertools\n",
    "import copy\n",
    "import operator\n",
    "import re \n",
    "import random \n",
    "\n",
    "import numpy as np\n",
    "\n",
    "import matplotlib.pyplot as plt\n",
    "\n",
    "from keras.preprocessing import sequence"
   ]
  },
  {
   "cell_type": "code",
   "execution_count": 2,
   "metadata": {},
   "outputs": [],
   "source": [
    "%matplotlib inline\n",
    "plt.style.use('ggplot')"
   ]
  },
  {
   "cell_type": "markdown",
   "metadata": {},
   "source": [
    "## Data Ingestion"
   ]
  },
  {
   "cell_type": "markdown",
   "metadata": {},
   "source": [
    "In this phase we will import the data from the files available <a href=\"https://sites.google.com/site/friendstvcorpus/files/Data.zip?attredirects=0&d=1\">here</a>. The file is tab delimitted, with the following columns: \n",
    "- 0: id\n",
    "- 1: scene_id\n",
    "- 2: person\n",
    "- 3: gender\n",
    "- 4: original_line\n",
    "- 5: line\n",
    "- 6: metadata\n",
    "- 7: filename"
   ]
  },
  {
   "cell_type": "code",
   "execution_count": 3,
   "metadata": {},
   "outputs": [],
   "source": [
    "def read_file():\n",
    "    \n",
    "    conversation = [] \n",
    "    \n",
    "    with open(constants.FILE_TRAINING_DATA) as f:\n",
    "        reader = csv.reader(f, delimiter='\\t')\n",
    "        _ = next(reader)\n",
    "        for row in reader:\n",
    "            try:\n",
    "                scene_id = int(row[1].strip())\n",
    "            except:\n",
    "                continue \n",
    "                \n",
    "            person = row[2].strip() \n",
    "            line = row[5].strip() \n",
    "            \n",
    "            conversation.append({\n",
    "                'scene_id': scene_id, \n",
    "                'actor': person, \n",
    "                'text': line})\n",
    "            \n",
    "    return conversation"
   ]
  },
  {
   "cell_type": "code",
   "execution_count": 4,
   "metadata": {},
   "outputs": [
    {
     "name": "stdout",
     "output_type": "stream",
     "text": [
      "Separate dialouge instances 60847\n",
      "\n",
      "39806: ROSS: Okay, I'm going to start climb down you now.\n",
      "39807: JOEY: Alright! Just hurry up!\n",
      "39808: ROSS: Okay. Now now now should I climb down your front so we're face to face or-or should I climb down your back so we're we're butt to face.\n",
      "\n",
      "43207: CHANDLER: And the world will never know.\n",
      "43208: JOEY: Hey! Did you talk to Dennis about me yet?\n",
      "43209: CHANDLER: Yes, I told him how talented you were. I told him all about Days Of Our Lives.\n",
      "\n",
      "26645: CHANDLER: This took you all day?!\n",
      "26646: JOEY: No no, this only took five minutes. I spent the rest of the day coming up with new, Ultimate Fireball. Ha-ha!\n",
      "26647: JOEY: Okay, it's a typical New York City apartment. Two girls are just hanging out.\n",
      "\n"
     ]
    }
   ],
   "source": [
    "conversation = read_file()\n",
    "\n",
    "print(\"Separate dialouge instances {}\\n\".format(len(conversation)))\n",
    "\n",
    "for i in range(3):\n",
    "    idx = random.randint(0, len(conversation)-10)\n",
    "    print(\"{}: {}: {}\".format(idx-1, conversation[idx-1][\"actor\"], conversation[idx-1][\"text\"]))\n",
    "    print(\"{}: {}: {}\".format(idx, conversation[idx][\"actor\"], conversation[idx][\"text\"]))\n",
    "    print(\"{}: {}: {}\".format(idx+1, conversation[idx+1][\"actor\"], conversation[idx+1][\"text\"]))\n",
    "    print(\"\")"
   ]
  },
  {
   "cell_type": "code",
   "execution_count": 5,
   "metadata": {},
   "outputs": [
    {
     "data": {
      "image/png": "[encoded data removed]",
      "text/plain": [
       "<matplotlib.figure.Figure at 0x7fba12289630>"
      ]
     },
     "metadata": {},
     "output_type": "display_data"
    }
   ],
   "source": [
    "# lets count how often each person spoke \n",
    "actor_counts = {} \n",
    "\n",
    "for c in conversation:\n",
    "    actor = c['actor']\n",
    "    if actor not in actor_counts:\n",
    "        actor_counts[actor] = 0\n",
    "        \n",
    "    actor_counts[actor] += 1\n",
    "    \n",
    "sorted_actor_counts = sorted(actor_counts.items(), key=operator.itemgetter(1), reverse=True)\n",
    "\n",
    "\n",
    "N = 10\n",
    "plt.bar(range(N), [float(item[1]) for item in sorted_actor_counts[:N]], align='center')\n",
    "plt.xticks(range(N), [item[0] for item in sorted_actor_counts[:N]], rotation=90)\n",
    "plt.show()"
   ]
  },
  {
   "cell_type": "code",
   "execution_count": 6,
   "metadata": {},
   "outputs": [
    {
     "name": "stdout",
     "output_type": "stream",
     "text": [
      "Utterances: Min: 1, Max: 195, Mean: 10.16\n"
     ]
    }
   ],
   "source": [
    "# now examine the length of each sentence to find what sequence length we should use \n",
    "utterances_len = [] \n",
    "\n",
    "for c in conversation:\n",
    "    utterances_len.append(len(c[\"text\"].split()))\n",
    "    \n",
    "print(\"Utterances: Min: {}, Max: {}, Mean: {}\".format(\n",
    "    min(utterances_len), max(utterances_len), \n",
    "    round(float(sum(utterances_len))/float(len(utterances_len)),2)))"
   ]
  },
  {
   "cell_type": "code",
   "execution_count": 7,
   "metadata": {},
   "outputs": [
    {
     "data": {
      "image/png": "[encoded data removed]",
      "text/plain": [
       "<matplotlib.figure.Figure at 0x7fba122893c8>"
      ]
     },
     "metadata": {},
     "output_type": "display_data"
    }
   ],
   "source": [
    "# lets look at the distribution\n",
    "plt.hist(utterances_len)\n",
    "plt.show()"
   ]
  },
  {
   "cell_type": "code",
   "execution_count": 8,
   "metadata": {},
   "outputs": [
    {
     "name": "stdout",
     "output_type": "stream",
     "text": [
      "Utterances: Min: 1, Max: 30, Mean: 8.52\n"
     ]
    }
   ],
   "source": [
    "# lets remove utterances with > 30 words \n",
    "utterances_len = [l for l in utterances_len if l <= 30]\n",
    "print(\"Utterances: Min: {}, Max: {}, Mean: {}\".format(\n",
    "    min(utterances_len), max(utterances_len), \n",
    "    round(float(sum(utterances_len))/float(len(utterances_len)),2)))"
   ]
  },
  {
   "cell_type": "code",
   "execution_count": 9,
   "metadata": {},
   "outputs": [
    {
     "data": {
      "image/png": "[encoded data removed]",
      "text/plain": [
       "<matplotlib.figure.Figure at 0x7fb9f4ef3518>"
      ]
     },
     "metadata": {},
     "output_type": "display_data"
    }
   ],
   "source": [
    "plt.hist(utterances_len)\n",
    "plt.show()"
   ]
  },
  {
   "cell_type": "markdown",
   "metadata": {},
   "source": [
    "Given the mean is 8 and distribution is considerable on the left, lets make our max sentence length 15 (defined in constants.py)."
   ]
  },
  {
   "cell_type": "code",
   "execution_count": 10,
   "metadata": {},
   "outputs": [],
   "source": [
    "\"\"\"\n",
    "lets now extract all conversation pairs with X and 'MAIN ACTOR' - here X \n",
    "is any person who speaks to 'MAIN ACTOR'. X utterance will be used as a input into our \n",
    "encoder and the response from 'MAIN ACTOR' our input into our decoder \n",
    "(we'll get to this soon) \n",
    "\"\"\"\n",
    "\n",
    "MAIN_ACTORS = [\"JOEY\"]\n",
    "\n",
    "extracted_conversation_encoder = [] \n",
    "extracted_conversation_decoder = [] \n",
    "\n",
    "prev_dialogue = None \n",
    "\n",
    "for dialogue in conversation:\n",
    "    \n",
    "    if prev_dialogue is not None:\n",
    "        if dialogue['actor'] in MAIN_ACTORS and dialogue[\"actor\"] is not prev_dialogue[\"actor\"] \\\n",
    "            and dialogue['scene_id'] == prev_dialogue['scene_id']:\n",
    "                extracted_conversation_encoder.append(prev_dialogue['text'])\n",
    "                extracted_conversation_decoder.append(dialogue['text'])\n",
    "                \n",
    "    prev_dialogue = dialogue            "
   ]
  },
  {
   "cell_type": "code",
   "execution_count": 11,
   "metadata": {},
   "outputs": [
    {
     "name": "stdout",
     "output_type": "stream",
     "text": [
      "Number of pairs 7723\n"
     ]
    }
   ],
   "source": [
    "print(\"Number of pairs {}\".format(len(extracted_conversation_decoder)))"
   ]
  },
  {
   "cell_type": "code",
   "execution_count": 12,
   "metadata": {},
   "outputs": [
    {
     "name": "stdout",
     "output_type": "stream",
     "text": [
      "Examples:\n",
      "0: Then I look down, and I realize there's a phone... there.\n",
      "0: Instead of...?\n",
      "\n",
      "1: That's right.\n",
      "1: Never had that dream.\n",
      "\n",
      "2: Hi.\n",
      "2: This guy says hello, I wanna kill myself.\n",
      "\n"
     ]
    }
   ],
   "source": [
    "print(\"Examples:\")\n",
    "for i in range(3):\n",
    "    print(\"{}: {}\\n{}: {}\\n\".format(\n",
    "        i, extracted_conversation_encoder[i], i, extracted_conversation_decoder[i]))"
   ]
  },
  {
   "cell_type": "markdown",
   "metadata": {},
   "source": [
    "## Data Normalisation"
   ]
  },
  {
   "cell_type": "markdown",
   "metadata": {},
   "source": [
    "Here we simply lowercase all the text as, in this instance, we don't want words with different cases to have different meaning."
   ]
  },
  {
   "cell_type": "code",
   "execution_count": 13,
   "metadata": {},
   "outputs": [],
   "source": [
    "extracted_conversation_encoder = [text.lower() for text in extracted_conversation_encoder]\n",
    "extracted_conversation_decoder = [text.lower() for text in extracted_conversation_decoder]"
   ]
  },
  {
   "cell_type": "code",
   "execution_count": 14,
   "metadata": {},
   "outputs": [
    {
     "name": "stdout",
     "output_type": "stream",
     "text": [
      "Examples:\n",
      "0: then i look down, and i realize there's a phone... there.\n",
      "0: instead of...?\n",
      "\n",
      "1: that's right.\n",
      "1: never had that dream.\n",
      "\n",
      "2: hi.\n",
      "2: this guy says hello, i wanna kill myself.\n",
      "\n"
     ]
    }
   ],
   "source": [
    "print(\"Examples:\")\n",
    "for i in range(3):\n",
    "    print(\"{}: {}\\n{}: {}\\n\".format(\n",
    "        i, extracted_conversation_encoder[i], i, extracted_conversation_decoder[i]))"
   ]
  },
  {
   "cell_type": "markdown",
   "metadata": {},
   "source": [
    "## Cleaning"
   ]
  },
  {
   "cell_type": "markdown",
   "metadata": {},
   "source": [
    "Once we have our utterances; our next step is cleaning it. In traditional text processing this would include removing punctuation, removing stop words, potentially stemming or lemmatization. In this case, we will simply remove punctuation."
   ]
  },
  {
   "cell_type": "code",
   "execution_count": 15,
   "metadata": {},
   "outputs": [],
   "source": [
    "replacements = [\n",
    "    (\"wan't\", \"want\"), \n",
    "    (\"didn't\", \"did not\"), \n",
    "    (\"don't\", \"did not\"),  \n",
    "    (\"won't\", \"will not\"),\n",
    "    (\"can't\", \"can not\"), \n",
    "    (\"we'd\", \"we would\"), \n",
    "    (\"i'd\", \"i would\"),    \n",
    "    (\"c'mon\", \"come on\"), \n",
    "    (\"n't\", \" not\"), \n",
    "    (\"’ve\", \" have\"), \n",
    "    (\"'ll\", \" will\"), \n",
    "    (\"'m\", \" am\"), \n",
    "    (\"'t\", \" not\"), \n",
    "    (\"'re\", \" are\"), \n",
    "    (\"'s\", \" is\"), \n",
    "    (\"'d\", \" would\")    \n",
    "]      \n",
    "\n",
    "for i, line in enumerate(extracted_conversation_encoder):\n",
    "    for key, value in replacements:\n",
    "        extracted_conversation_encoder[i] = extracted_conversation_encoder[i].replace(key, value)\n",
    "        \n",
    "for i, line in enumerate(extracted_conversation_decoder):\n",
    "    for key, value in replacements:\n",
    "        extracted_conversation_decoder[i] = extracted_conversation_decoder[i].replace(key, value)"
   ]
  },
  {
   "cell_type": "code",
   "execution_count": 16,
   "metadata": {},
   "outputs": [],
   "source": [
    "extracted_conversation_encoder = [re.sub(r\"[^a-zA-Z0-9]\", \" \", text) for text in extracted_conversation_encoder]\n",
    "extracted_conversation_decoder = [re.sub(r\"[^a-zA-Z0-9]\", \" \", text) for text in extracted_conversation_decoder]"
   ]
  },
  {
   "cell_type": "code",
   "execution_count": 17,
   "metadata": {},
   "outputs": [
    {
     "name": "stdout",
     "output_type": "stream",
     "text": [
      "Examples:\n",
      "0: then i look down  and i realize there is a phone    there \n",
      "0: instead of    \n",
      "\n",
      "1: that is right \n",
      "1: never had that dream \n",
      "\n",
      "2: hi \n",
      "2: this guy says hello  i wanna kill myself \n",
      "\n"
     ]
    }
   ],
   "source": [
    "print(\"Examples:\")\n",
    "for i in range(3):\n",
    "    print(\"{}: {}\\n{}: {}\\n\".format(\n",
    "        i, extracted_conversation_encoder[i], i, extracted_conversation_decoder[i]))"
   ]
  },
  {
   "cell_type": "markdown",
   "metadata": {},
   "source": [
    "## Build up a vocabulary"
   ]
  },
  {
   "cell_type": "markdown",
   "metadata": {},
   "source": [
    "Our next step is to build up a vocabulary; this is what we will use to teach our model."
   ]
  },
  {
   "cell_type": "code",
   "execution_count": 18,
   "metadata": {},
   "outputs": [
    {
     "name": "stdout",
     "output_type": "stream",
     "text": [
      "Corpus has 7270 unique words\n"
     ]
    }
   ],
   "source": [
    "# join both our encoder and decoder lists together and build a large set which we'll then \n",
    "# pass to the Counter that, conveniently and as you would expect, counters occurrences of each \n",
    "# word \n",
    "vocab = extracted_conversation_encoder + extracted_conversation_decoder\n",
    "vocab = \" \".join(vocab) \n",
    "vocab = vocab.split()\n",
    "\n",
    "word_counts = collections.Counter(vocab)\n",
    "\n",
    "print(\"Corpus has {} unique words\".format(len(word_counts)))"
   ]
  },
  {
   "cell_type": "code",
   "execution_count": 19,
   "metadata": {},
   "outputs": [
    {
     "data": {
      "image/png": "[encoded data removed]",
      "text/plain": [
       "<matplotlib.figure.Figure at 0x7fb9f4d81c18>"
      ]
     },
     "metadata": {},
     "output_type": "display_data"
    }
   ],
   "source": [
    "word_counts_only = [count for word, count in word_counts.items()]\n",
    "plt.hist(word_counts_only)\n",
    "plt.show()"
   ]
  },
  {
   "cell_type": "code",
   "execution_count": 20,
   "metadata": {},
   "outputs": [
    {
     "name": "stdout",
     "output_type": "stream",
     "text": [
      "Vocab size 2193\n"
     ]
    }
   ],
   "source": [
    "# lets limit it to words that occured at least twice (adding on the number of tags we'll use)\n",
    "vocab_size = sum(1 for word, count in word_counts.items() if count >= 4) + len(constants.TAGS)\n",
    "print(\"Vocab size {}\".format(vocab_size))"
   ]
  },
  {
   "cell_type": "code",
   "execution_count": 21,
   "metadata": {},
   "outputs": [],
   "source": [
    "vocab = word_counts.most_common(vocab_size - len(constants.TAGS))"
   ]
  },
  {
   "cell_type": "code",
   "execution_count": 22,
   "metadata": {},
   "outputs": [
    {
     "name": "stdout",
     "output_type": "stream",
     "text": [
      "vocab size 2189, most frequent word 'i' (8290), least freqent word = 'hut' (4)\n"
     ]
    }
   ],
   "source": [
    "# print some stats\n",
    "print(\"vocab size {}, most frequent word '{}' ({}), least freqent word = '{}' ({})\".format(\n",
    "    len(vocab), vocab[0][0], vocab[0][1], vocab[-1][0], vocab[-1][1]))"
   ]
  },
  {
   "cell_type": "code",
   "execution_count": 23,
   "metadata": {},
   "outputs": [],
   "source": [
    "# create index_2_word and word_2_index lookups \n",
    "word_2_index = copy.copy(constants.TAGS)\n",
    "\n",
    "for v_i, v in enumerate(vocab, len(constants.TAGS)):\n",
    "    word_2_index[v[0]] = v_i\n",
    "\n",
    "index_2_word = {v_i: v for v, v_i in word_2_index.items()}"
   ]
  },
  {
   "cell_type": "code",
   "execution_count": 24,
   "metadata": {},
   "outputs": [
    {
     "name": "stdout",
     "output_type": "stream",
     "text": [
      "First 20 words in our index\n",
      "0 = <PAD>\n",
      "1 = <EOS>\n",
      "2 = <UNK>\n",
      "3 = <BOS>\n",
      "4 = i\n",
      "5 = you\n",
      "6 = is\n",
      "7 = the\n",
      "8 = not\n",
      "9 = it\n",
      "10 = to\n",
      "11 = a\n",
      "12 = that\n",
      "13 = and\n",
      "14 = what\n",
      "15 = are\n",
      "16 = did\n",
      "17 = know\n",
      "18 = am\n",
      "19 = oh\n"
     ]
    }
   ],
   "source": [
    "print(\"First 20 words in our index\")\n",
    "for i in range(20):\n",
    "    print(\"{} = {}\".format(i, index_2_word[i]))"
   ]
  },
  {
   "cell_type": "code",
   "execution_count": 25,
   "metadata": {},
   "outputs": [],
   "source": [
    "# lets now save our lookups \n",
    "with open(constants.FILE_VOCAB, 'wb') as f:\n",
    "    pickle.dump([index_2_word, word_2_index], f)"
   ]
  },
  {
   "cell_type": "markdown",
   "metadata": {},
   "source": [
    "## Tokenize"
   ]
  },
  {
   "cell_type": "markdown",
   "metadata": {},
   "source": [
    "Next we break each sentence into tokens (aka words) - the reason for doing this will become clear as we move on."
   ]
  },
  {
   "cell_type": "code",
   "execution_count": 26,
   "metadata": {},
   "outputs": [],
   "source": [
    "tokens_encoder = [text.split() for text in extracted_conversation_encoder]\n",
    "tokens_decoder = [text.split() for text in extracted_conversation_decoder]"
   ]
  },
  {
   "cell_type": "code",
   "execution_count": 27,
   "metadata": {},
   "outputs": [
    {
     "name": "stdout",
     "output_type": "stream",
     "text": [
      "Examples:\n",
      "0: ['then', 'i', 'look', 'down', 'and', 'i', 'realize', 'there', 'is', 'a', 'phone', 'there']\n",
      "0: ['instead', 'of']\n",
      "\n",
      "1: ['that', 'is', 'right']\n",
      "1: ['never', 'had', 'that', 'dream']\n",
      "\n",
      "2: ['hi']\n",
      "2: ['this', 'guy', 'says', 'hello', 'i', 'wanna', 'kill', 'myself']\n",
      "\n"
     ]
    }
   ],
   "source": [
    "print(\"Examples:\")\n",
    "for i in range(3):\n",
    "    print(\"{}: {}\\n{}: {}\\n\".format(\n",
    "        i, tokens_encoder[i], i, tokens_decoder[i]))"
   ]
  },
  {
   "cell_type": "markdown",
   "metadata": {},
   "source": [
    "Now lets replace words that we don't exist in our vocab with our UNK tag."
   ]
  },
  {
   "cell_type": "code",
   "execution_count": 28,
   "metadata": {},
   "outputs": [],
   "source": [
    "# update our tokenized inputs and outputs, replacing all words no in the vocab with the unknown tag \n",
    "for i, words in enumerate(tokens_encoder):\n",
    "    tokens_encoder[i] = [w if w in word_2_index else constants.TAG_UNK for w in words]\n",
    "    \n",
    "for i, words in enumerate(tokens_decoder):\n",
    "    tokens_decoder[i] = [w if w in word_2_index else constants.TAG_UNK for w in words]"
   ]
  },
  {
   "cell_type": "markdown",
   "metadata": {},
   "source": [
    "Our final 2 tasks are to truncate utterances that are too long and surround our decoder utterances with our BOS (begining of sentence) and EOS (end of sentence) tags. This will give our model clues as to when a sentence starts and end."
   ]
  },
  {
   "cell_type": "code",
   "execution_count": 29,
   "metadata": {},
   "outputs": [],
   "source": [
    "# reduce size of our question and answer \n",
    "for i, tokens in enumerate(tokens_encoder):\n",
    "    if len(tokens) > constants.MAX_INPUT_LENGTH:\n",
    "        tokens_encoder[i] = tokens[:constants.MAX_INPUT_LENGTH]  \n",
    "        \n",
    "for i, tokens in enumerate(tokens_decoder):\n",
    "    # similar to the encoder but reducing the max length by 2 to \n",
    "    # allow for the BOS and EOS tags\n",
    "    if len(tokens) > constants.MAX_INPUT_LENGTH-2:\n",
    "        tokens_decoder[i] = tokens[:constants.MAX_INPUT_LENGTH-2]  \n",
    "        \n",
    "    tokens_decoder[i].insert(0, constants.TAG_BOS)\n",
    "    tokens_decoder[i].append(constants.TAG_EOS)"
   ]
  },
  {
   "cell_type": "code",
   "execution_count": 30,
   "metadata": {},
   "outputs": [
    {
     "name": "stdout",
     "output_type": "stream",
     "text": [
      "Examples:\n",
      "0: ['then', 'i', 'look', 'down', 'and', 'i', 'realize', 'there', 'is', 'a', 'phone', 'there']\n",
      "0: ['<BOS>', 'instead', 'of', '<EOS>']\n",
      "\n",
      "1: ['that', 'is', 'right']\n",
      "1: ['<BOS>', 'never', 'had', 'that', 'dream', '<EOS>']\n",
      "\n",
      "2: ['hi']\n",
      "2: ['<BOS>', 'this', 'guy', 'says', 'hello', 'i', 'wanna', 'kill', 'myself', '<EOS>']\n",
      "\n"
     ]
    }
   ],
   "source": [
    "print(\"Examples:\")\n",
    "for i in range(3):\n",
    "    print(\"{}: {}\\n{}: {}\\n\".format(\n",
    "        i, tokens_encoder[i], i, tokens_decoder[i]))"
   ]
  },
  {
   "cell_type": "markdown",
   "metadata": {},
   "source": [
    "## Vectorize the utterances"
   ]
  },
  {
   "cell_type": "markdown",
   "metadata": {},
   "source": [
    "Very few machine learning algorithms can accept anything but numerical values, partly for this reason we will vectorise our text. This means we will replace a word with it's associated id via the lookup created above (index_2_word) e.g. ['you', 'did', 'not'] becomes [5, 16, 8]."
   ]
  },
  {
   "cell_type": "code",
   "execution_count": 31,
   "metadata": {},
   "outputs": [],
   "source": [
    "# Creating the training data:\n",
    "vec_encoder = np.asarray([[word_2_index[w] for w in sent] for sent in tokens_encoder])\n",
    "vec_decoder = np.asarray([[word_2_index[w] for w in sent] for sent in tokens_decoder])"
   ]
  },
  {
   "cell_type": "code",
   "execution_count": 32,
   "metadata": {},
   "outputs": [
    {
     "name": "stdout",
     "output_type": "stream",
     "text": [
      "Examples:\n",
      "0: [89, 4, 59, 124, 13, 4, 1004, 46, 6, 11, 361, 46]\n",
      "0: [3, 791, 26, 1]\n",
      "\n",
      "1: [12, 6, 57]\n",
      "1: [3, 125, 110, 12, 735, 1]\n",
      "\n",
      "2: [152]\n",
      "2: [3, 23, 101, 362, 242, 4, 137, 514, 336, 1]\n",
      "\n"
     ]
    }
   ],
   "source": [
    "print(\"Examples:\")\n",
    "for i in range(3):\n",
    "    print(\"{}: {}\\n{}: {}\\n\".format(\n",
    "        i, vec_encoder[i], i, vec_decoder[i]))"
   ]
  },
  {
   "cell_type": "code",
   "execution_count": 33,
   "metadata": {},
   "outputs": [],
   "source": [
    "\"\"\"\n",
    "reverse the encoder inputs i.e. from a, b, c => 1, 2, 3 (where a, c, b are the inputs\n",
    "for the encder and 1, 2, 3 are the inputs for the decoder) to c, d, a => 1, 2, 3. This \n",
    "assist our network in finding a relationship between a and 1 etc \n",
    "\"\"\"\n",
    "for i in range(len(vec_encoder)):\n",
    "    vec_encoder[i] = vec_encoder[i][::-1]"
   ]
  },
  {
   "cell_type": "code",
   "execution_count": 34,
   "metadata": {},
   "outputs": [
    {
     "name": "stdout",
     "output_type": "stream",
     "text": [
      "Examples:\n",
      "0: [46, 361, 11, 6, 46, 1004, 4, 13, 124, 59, 4, 89]\n",
      "0: [3, 791, 26, 1]\n",
      "\n",
      "1: [57, 6, 12]\n",
      "1: [3, 125, 110, 12, 735, 1]\n",
      "\n",
      "2: [152]\n",
      "2: [3, 23, 101, 362, 242, 4, 137, 514, 336, 1]\n",
      "\n"
     ]
    }
   ],
   "source": [
    "print(\"Examples:\")\n",
    "for i in range(3):\n",
    "    print(\"{}: {}\\n{}: {}\\n\".format(\n",
    "        i, vec_encoder[i], i, vec_decoder[i]))"
   ]
  },
  {
   "cell_type": "markdown",
   "metadata": {},
   "source": [
    "## Padding "
   ]
  },
  {
   "cell_type": "markdown",
   "metadata": {},
   "source": [
    "Our final task is to pad each of the vectors such that they are all the same length. This is because our model cannot deal with variable sized vectors - and if it could we would still probably do it to make its job of learning easier."
   ]
  },
  {
   "cell_type": "code",
   "execution_count": 35,
   "metadata": {},
   "outputs": [],
   "source": [
    "# pad our each sequence to ensure they are the same length (fixed size of MAX_INPUT_LENGTH, MAX_OUTPUT_LENGTH)\n",
    "padded_vec_encoder = sequence.pad_sequences(vec_encoder, maxlen=constants.MAX_INPUT_LENGTH)\n",
    "padded_vec_decoder = sequence.pad_sequences(vec_decoder, maxlen=constants.MAX_OUTPUT_LENGTH, padding='post')"
   ]
  },
  {
   "cell_type": "code",
   "execution_count": 36,
   "metadata": {},
   "outputs": [
    {
     "name": "stdout",
     "output_type": "stream",
     "text": [
      "Examples:\n",
      "0: [   0    0    0   46  361   11    6   46 1004    4   13  124   59    4   89]\n",
      "0: [  3 791  26   1   0   0   0   0   0   0   0   0   0   0   0]\n",
      "\n",
      "1: [ 0  0  0  0  0  0  0  0  0  0  0  0 57  6 12]\n",
      "1: [  3 125 110  12 735   1   0   0   0   0   0   0   0   0   0]\n",
      "\n",
      "2: [  0   0   0   0   0   0   0   0   0   0   0   0   0   0 152]\n",
      "2: [  3  23 101 362 242   4 137 514 336   1   0   0   0   0   0]\n",
      "\n"
     ]
    }
   ],
   "source": [
    "print(\"Examples:\")\n",
    "for i in range(3):\n",
    "    print(\"{}: {}\\n{}: {}\\n\".format(\n",
    "        i, padded_vec_encoder[i], i, padded_vec_decoder[i]))"
   ]
  },
  {
   "cell_type": "code",
   "execution_count": 37,
   "metadata": {},
   "outputs": [],
   "source": [
    "# lets now save our padded vectors - this is what we will feed our machine learning algorithm. \n",
    "with open(constants.FILE_TRAINING_DATA_ENCODER_INPUTS, 'wb') as f:\n",
    "    pickle.dump(padded_vec_encoder, f)\n",
    "    \n",
    "with open(constants.FILE_TRAINING_DATA_DECODER_INPUTS, 'wb') as f:\n",
    "    pickle.dump(padded_vec_decoder, f)"
   ]
  },
  {
   "cell_type": "code",
   "execution_count": null,
   "metadata": {},
   "outputs": [],
   "source": []
  }
 ],
 "metadata": {
  "kernelspec": {
   "display_name": "Python 3",
   "language": "python",
   "name": "python3"
  },
  "language_info": {
   "codemirror_mode": {
    "name": "ipython",
    "version": 3
   },
   "file_extension": ".py",
   "mimetype": "text/x-python",
   "name": "python",
   "nbconvert_exporter": "python",
   "pygments_lexer": "ipython3",
   "version": "3.5.2"
  },
  "widgets": {
   "state": {},
   "version": "1.1.2"
  }
 },
 "nbformat": 4,
 "nbformat_minor": 2
}
